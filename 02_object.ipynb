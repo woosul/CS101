{
 "cells": [
  {
   "cell_type": "code",
   "execution_count": 2,
   "metadata": {},
   "outputs": [
    {
     "name": "stdout",
     "output_type": "stream",
     "text": [
      "CS101 is fantastic!\n",
      "Programming is fun!\n",
      "CS101 is fantastic!\n",
      "Programming is fun!\n"
     ]
    }
   ],
   "source": [
    "def print_message():\n",
    "    print(\"CS101 is fantastic!\")\n",
    "    print(\"Programming is fun!\")\n",
    "\n",
    "def repeat_message():\n",
    "    print_message()\n",
    "    print_message()\n",
    "\n",
    "repeat_message()"
   ]
  },
  {
   "cell_type": "code",
   "execution_count": null,
   "metadata": {},
   "outputs": [],
   "source": [
    "from cs1robots import *\n",
    "\n",
    "create_world(avenues = 5, streets = 5)\n",
    "\n",
    "# create a robot with one beeper\n",
    "hubo = Robot(beepers = 1)\n",
    "\n",
    "# move one step forward\n",
    "hubo.move()\n",
    "\n",
    "# turn left 90 degrees\n",
    "hubo.turn_left()\n",
    "\n",
    "def turn_right():\n",
    "    hubo.turn_left()\n",
    "    hubo.turn_left()\n",
    "    hubo.turn_left()\n",
    "\n",
    "hubo.move()\n",
    "turn_right()\n",
    "hubo.move()\n",
    "hubo.turn_left()\n",
    "hubo.move()\n",
    "turn_right()"
   ]
  },
  {
   "cell_type": "code",
   "execution_count": null,
   "metadata": {},
   "outputs": [],
   "source": []
  }
 ],
 "metadata": {
  "kernelspec": {
   "display_name": "Python 3",
   "language": "python",
   "name": "python3"
  },
  "language_info": {
   "codemirror_mode": {
    "name": "ipython",
    "version": 3
   },
   "file_extension": ".py",
   "mimetype": "text/x-python",
   "name": "python",
   "nbconvert_exporter": "python",
   "pygments_lexer": "ipython3",
   "version": "3.12.1"
  }
 },
 "nbformat": 4,
 "nbformat_minor": 2
}
