{
 "cells": [
  {
   "cell_type": "code",
   "execution_count": 1,
   "metadata": {},
   "outputs": [
    {
     "name": "stdout",
     "output_type": "stream",
     "text": [
      "1.5707963267948966\n"
     ]
    }
   ],
   "source": [
    "# 원주율을 radians로 변환하기\n",
    "from math import pi\n",
    "import math\n",
    "\n",
    "def to_radians(deg) :\n",
    "    return (deg / 180.0) * math.pi\n",
    "\n",
    "a = to_radians(90)\n",
    "print(a)"
   ]
  },
  {
   "cell_type": "code",
   "execution_count": 5,
   "metadata": {},
   "outputs": [
    {
     "name": "stdout",
     "output_type": "stream",
     "text": [
      "32  |  17  |  17.0  |  3.1415  |  17 + 3.1415  |  (17+0j)\n"
     ]
    }
   ],
   "source": [
    "# 데이터 타입 변환 함수\n",
    "a = int(\"32\")\n",
    "b = int(17.3)\n",
    "c = float(17)\n",
    "d = float(\"3.1415\")\n",
    "e = str(17) + \" + \" + str(3.1415)\n",
    "f = complex(17)\n",
    "\n",
    "print(a, \" | \", b, \" | \", c, \" | \", d, \" | \", e, \" | \", f)"
   ]
  },
  {
   "cell_type": "code",
   "execution_count": 6,
   "metadata": {},
   "outputs": [
    {
     "name": "stdout",
     "output_type": "stream",
     "text": [
      "0.7071067811865475\n",
      "0.7071067811865476\n"
     ]
    }
   ],
   "source": [
    "# 수학 함수\n",
    "import math\n",
    "degrees = 45\n",
    "radians = degrees / 360.0 * 2 * math.pi\n",
    "print(math.sin(radians))\n",
    "print(math.sqrt(2) / 2)"
   ]
  },
  {
   "cell_type": "code",
   "execution_count": 7,
   "metadata": {},
   "outputs": [
    {
     "name": "stdout",
     "output_type": "stream",
     "text": [
      "0.7071067811865475\n"
     ]
    }
   ],
   "source": [
    "# 수학함수를 간단히 사용하기    \n",
    "import math\n",
    "sin = math.sin\n",
    "pi = math.pi\n",
    "radians = degrees / 360.0 * 2 * pi\n",
    "print(sin(radians))"
   ]
  },
  {
   "cell_type": "code",
   "execution_count": 2,
   "metadata": {
    "ExecuteTime": {
     "end_time": "2023-12-24T01:36:12.635550400Z",
     "start_time": "2023-12-24T01:36:12.601160100Z"
    }
   },
   "outputs": [
    {
     "name": "stdout",
     "output_type": "stream",
     "text": [
      "214.0  |  610.0950199739835\n"
     ]
    }
   ],
   "source": [
    "# 매개변수를 활용한 함수의 사용\n",
    "def compute_interest(amount, rate, years) :\n",
    "    value = amount * (1 + (rate / 100)) ** years\n",
    "    return value\n",
    "\n",
    "s1 = compute_interest(200, 7, 1)\n",
    "s2 = compute_interest(500, 1, 20)\n",
    "print(s1, \" | \", s2)"
   ]
  },
  {
   "cell_type": "code",
   "outputs": [],
   "source": [],
   "metadata": {
    "collapsed": false
   }
  }
 ],
 "metadata": {
  "kernelspec": {
   "display_name": ".venv",
   "language": "python",
   "name": "python3"
  },
  "language_info": {
   "codemirror_mode": {
    "name": "ipython",
    "version": 3
   },
   "file_extension": ".py",
   "mimetype": "text/x-python",
   "name": "python",
   "nbconvert_exporter": "python",
   "pygments_lexer": "ipython3",
   "version": "3.12.1"
  }
 },
 "nbformat": 4,
 "nbformat_minor": 2
}
