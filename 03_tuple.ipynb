{
 "cells": [
  {
   "cell_type": "code",
   "execution_count": 14,
   "metadata": {},
   "outputs": [
    {
     "name": "stdout",
     "output_type": "stream",
     "text": [
      "32 1.2857142857142858 1 2.0 98359.0\n"
     ]
    }
   ],
   "source": [
    "l = 2 * 16\n",
    "m = 9 / 7\n",
    "n = 7 % 3\n",
    "o =  7.0 // 3.0 # 정수 나눗셈의 몫\n",
    "p = 3.0 * (2 ** 15 - 12 / 4) + 4 ** 3\n",
    "print(l, m, n, o, p)"
   ]
  },
  {
   "cell_type": "code",
   "execution_count": 17,
   "metadata": {},
   "outputs": [
    {
     "name": "stdout",
     "output_type": "stream",
     "text": [
      "(3.14, -5, 7.5) <class 'tuple'>\n",
      "3.14 -5 7.5\n"
     ]
    }
   ],
   "source": [
    "position = (3.14, -5, 7.5)\n",
    "print(position, type(position))\n",
    "\n",
    "x, y, z = position\n",
    "print(x, y, z)\n"
   ]
  },
  {
   "cell_type": "code",
   "execution_count": 2,
   "metadata": {},
   "outputs": [],
   "source": [
    "from cs1media import *\n",
    "\n",
    "red = (255, 0, 0)\n",
    "blue = (0, 0, 255)\n",
    "white = (255, 255, 255)\n",
    "black = (0, 0, 0)\n",
    "yellow = (255, 255, 0)\n",
    "purple = (128, 0, 128)\n",
    "pink = (255, 192, 203)\n",
    "\n",
    "img = create_picture(100, 100, purple)\n",
    "img.show()\n",
    "img.set_pixels(yellow)\n",
    "img.show()\n",
    "\n",
    "# print(red, blue, white, black, yellow, purple, pink)"
   ]
  },
  {
   "cell_type": "code",
   "execution_count": null,
   "metadata": {},
   "outputs": [],
   "source": [
    "for i in range(4): \n",
    "    print(i) \n",
    "\n",
    "print(\"-----\")\n",
    "for i in range(4, 8):\n",
    "    print(i)\n",
    "\n",
    "print(\"-----\")\n",
    "for i in range(7):\n",
    "    print (\"*\" * (i+1))"
   ]
  },
  {
   "cell_type": "code",
   "execution_count": 13,
   "metadata": {},
   "outputs": [],
   "source": [
    "from cs1media import *\n",
    "img = load_picture(\"./03/photos/geowi.jpg\")\n",
    "w, h = img.size()\n",
    "for y in range(h) :\n",
    "    for x in range(w):\n",
    "        r, g, b = img.get(x, y)\n",
    "        r, g, b = 255 - r, 255 - g, 255 - b\n",
    "        img.set(x, y, (r, g, b))\n",
    "img.show()"
   ]
  },
  {
   "cell_type": "code",
   "execution_count": 18,
   "metadata": {},
   "outputs": [],
   "source": [
    "from cs1media import *\n",
    "threshold = 120\n",
    "white = (255, 255, 255)\n",
    "black = (0, 0, 0)\n",
    "img = load_picture(\"./03/photos/yuna1.jpg\")\n",
    "w, h = img.size()\n",
    "for y in range(h) :\n",
    "    for x in range(w) :\n",
    "        r, g, b = img.get(x, y)\n",
    "        v = (r + g + b) // 3 # average of r,g,b\n",
    "        if v > threshold :\n",
    "            img.set(x, y, white)\n",
    "        else :\n",
    "            img.set(x, y, black)\n",
    "img.show()\n"
   ]
  },
  {
   "cell_type": "code",
   "execution_count": null,
   "metadata": {},
   "outputs": [],
   "source": []
  }
 ],
 "metadata": {
  "kernelspec": {
   "display_name": ".venv",
   "language": "python",
   "name": "python3"
  },
  "language_info": {
   "codemirror_mode": {
    "name": "ipython",
    "version": 3
   },
   "file_extension": ".py",
   "mimetype": "text/x-python",
   "name": "python",
   "nbconvert_exporter": "python",
   "pygments_lexer": "ipython3",
   "version": "3.12.1"
  }
 },
 "nbformat": 4,
 "nbformat_minor": 2
}
